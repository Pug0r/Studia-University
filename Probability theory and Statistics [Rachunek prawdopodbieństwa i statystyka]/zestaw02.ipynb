{
 "cells": [
  {
   "cell_type": "code",
   "execution_count": 130,
   "id": "e2794f72",
   "metadata": {},
   "outputs": [],
   "source": [
    "import random \n",
    "from math import sqrt, pi \n",
    "import matplotlib.pyplot as plt \n",
    "# Domyslnie ziarnem jest bodajze aktualny czas w OS\n",
    "random.seed()"
   ]
  },
  {
   "cell_type": "code",
   "execution_count": 105,
   "id": "4a1a654d",
   "metadata": {},
   "outputs": [
    {
     "name": "stdout",
     "output_type": "stream",
     "text": [
      "False\n"
     ]
    }
   ],
   "source": [
    "# ZAD 1 a)\n",
    "# Mozna latwo sprawdzic, czy generator dziala:\n",
    "import matplotlib.pyplot as plt\n",
    "print([random.random() for _ in range(10**2)] == [random.random() for _ in range(10**2)])"
   ]
  },
  {
   "cell_type": "code",
   "execution_count": 106,
   "id": "e2cc3243",
   "metadata": {},
   "outputs": [],
   "source": [
    "# ZAD 1 b)\n",
    "# Korzystam z faktu, ze w Pythonie pusta lista jest ewaluowana do False oraz z konstrukcji tzw. list comprehension\n",
    "def choose_cards(cards_to_choose=3, interesting_cards=13, all_cards=52):\n",
    "    deck = [x for x in range(1, all_cards+1)]\n",
    "    cards_of_interest = random.sample(deck, interesting_cards)\n",
    "    choosen_cards = random.sample(deck, cards_to_choose)\n",
    "    return bool([i for i in choosen_cards if i in cards_of_interest])\n",
    "    "
   ]
  },
  {
   "cell_type": "code",
   "execution_count": 107,
   "id": "e061ae30",
   "metadata": {},
   "outputs": [],
   "source": [
    "def repeat_choice(how_many_times=10000):\n",
    "    if how_many_times <= 0:\n",
    "        return 0\n",
    "    inside = 0\n",
    "    for i in range(how_many_times):\n",
    "        if choose_cards():\n",
    "            inside += 1\n",
    "    return 1-inside/how_many_times"
   ]
  },
  {
   "cell_type": "code",
   "execution_count": 108,
   "id": "e576bef7",
   "metadata": {
    "scrolled": true
   },
   "outputs": [
    {
     "name": "stdout",
     "output_type": "stream",
     "text": [
      "It takes between 30 and 207 trials to reach the exact (error < 0.1%) calculated value\n"
     ]
    }
   ],
   "source": [
    "# This cell might take 5-10 seconds to run\n",
    "\n",
    "EXPECTED_PROBABILITY = 0.4135\n",
    "NUMBER_OF_TRIALS = 100\n",
    "\n",
    "spread_of_required_choices = []\n",
    "\n",
    "for _ in range(NUMBER_OF_TRIALS):\n",
    "    number_of_choices = 0\n",
    "    current_probability = 0\n",
    "    while abs(current_probability - EXPECTED_PROBABILITY) > 0.001:\n",
    "        current_probability = repeat_choice(how_many_times=number_of_choices)\n",
    "        number_of_choices += 1\n",
    "    spread_of_required_choices.append(number_of_choices)\n",
    "    \n",
    "print(f'It takes between {min(spread_of_required_choices)} and {max(spread_of_required_choices)} trials to reach the exact (error < 0.1%) calculated value')"
   ]
  },
  {
   "cell_type": "code",
   "execution_count": 109,
   "id": "a2e234f1",
   "metadata": {},
   "outputs": [],
   "source": [
    "# ZAD 2 - Wizualizacja w osobnym pliku pythona"
   ]
  },
  {
   "cell_type": "code",
   "execution_count": 120,
   "id": "4e08c331",
   "metadata": {},
   "outputs": [],
   "source": [
    "def approximate_pi(num_of_points):\n",
    "    if num_of_points <= 0:\n",
    "        return -1\n",
    "    inside = 0 \n",
    "    for _ in range(num_of_points):\n",
    "        x = random.random()\n",
    "        y = random.random()\n",
    "        if sqrt(x**2 + y**2) < 1.0:\n",
    "            inside+=1\n",
    "    return 4*inside/num_of_points"
   ]
  },
  {
   "cell_type": "code",
   "execution_count": null,
   "id": "3b4c956a",
   "metadata": {},
   "outputs": [],
   "source": []
  },
  {
   "cell_type": "code",
   "execution_count": 147,
   "id": "4f3edc13",
   "metadata": {
    "scrolled": true
   },
   "outputs": [
    {
     "name": "stdout",
     "output_type": "stream",
     "text": [
      "With 10 points generated, the approximation is 3.2\n",
      "With 25 points generated, the approximation is 3.04\n",
      "With 100 points generated, the approximation is 3.2\n",
      "With 125 points generated, the approximation is 3.04\n",
      "With 1000 points generated, the approximation is 3.16\n",
      "With 625 points generated, the approximation is 3.0848\n",
      "With 10000 points generated, the approximation is 3.1656\n",
      "With 3125 points generated, the approximation is 3.12192\n",
      "With 100000 points generated, the approximation is 3.14752\n",
      "With 15625 points generated, the approximation is 3.133696\n",
      "With 1000000 points generated, the approximation is 3.139788\n",
      "With 78125 points generated, the approximation is 3.1506432\n",
      "With 10000000 points generated, the approximation is 3.1412956\n"
     ]
    }
   ],
   "source": [
    "# This cell might take up to 5 seconds to run\n",
    "num_of_arguments = (10**1, 5**2, 10**2, 5**3, 10**3, 5**4, 10**4, 5**5, 10**5, 5**6, 10**6, 5**7,10**7)\n",
    "pi_approxims = [approximate_pi(argument) for argument in num_of_arguments]\n",
    "error_of_approxims = [pi - x for x in pi_approxims]\n",
    "\n",
    "for approx, argument in zip(pi_approxims, num_of_arguments):\n",
    "    print(f'With {argument} points generated, the approximation is {approx}')"
   ]
  },
  {
   "cell_type": "code",
   "execution_count": 143,
   "id": "e0320a57",
   "metadata": {},
   "outputs": [
    {
     "data": {
      "image/png": "[encoded data removed]",
      "text/plain": [
       "<Figure size 432x288 with 1 Axes>"
      ]
     },
     "metadata": {
      "needs_background": "light"
     },
     "output_type": "display_data"
    }
   ],
   "source": [
    "# Visualising the approximation error\n",
    "plt.ylabel(\"Approximation error\")\n",
    "plt.xlabel(\"Number of points generated\")\n",
    "plt.xticks(rotation=90)\n",
    "plt.bar(range(1, 14), error_of_approxims, tick_label=[str(x) for x in num_of_arguments]);"
   ]
  },
  {
   "cell_type": "code",
   "execution_count": null,
   "id": "dfebf53c",
   "metadata": {},
   "outputs": [],
   "source": []
  }
 ],
 "metadata": {
  "kernelspec": {
   "display_name": "Python 3 (ipykernel)",
   "language": "python",
   "name": "python3"
  },
  "language_info": {
   "codemirror_mode": {
    "name": "ipython",
    "version": 3
   },
   "file_extension": ".py",
   "mimetype": "text/x-python",
   "name": "python",
   "nbconvert_exporter": "python",
   "pygments_lexer": "ipython3",
   "version": "3.9.7"
  }
 },
 "nbformat": 4,
 "nbformat_minor": 5
}

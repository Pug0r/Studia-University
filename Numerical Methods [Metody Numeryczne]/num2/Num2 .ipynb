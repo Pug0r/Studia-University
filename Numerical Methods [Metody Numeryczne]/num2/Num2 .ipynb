{
 "cells": [
  {
   "cell_type": "code",
   "execution_count": 1,
   "id": "67c2ee47",
   "metadata": {},
   "outputs": [],
   "source": [
    "import numpy as np "
   ]
  },
  {
   "cell_type": "code",
   "execution_count": 2,
   "id": "e7f1880c",
   "metadata": {},
   "outputs": [],
   "source": [
    "# Defining all the matrices and vectors \n",
    "\n",
    "matrix_A1 = np.array([[2.34332898, -0.11253278, -0.01485349, 0.33316649, 0.71319625],\n",
    "            [-0.11253278, 1.67773628, -0.32678856, -0.31118836, -0.43342631],\n",
    "            [-0.01485349, -0.32678856, 2.66011353, 0.85462464, 0.16698798],\n",
    "            [0.33316649, -0.31118836, 0.85462464, 1.54788582, 0.32269197],\n",
    "            [0.71319625, -0.43342631, 0.16698798, 0.32269197, 3.27093538]])\n",
    "\n",
    "matrix_A2 = np.array([[2.34065520, -0.05353743, 0.00237792, 0.32944082, 0.72776588],\n",
    "            [-0.05353743, 0.37604149, -0.70698859, -0.22898376, -0.75489595],\n",
    "            [0.00237792, -0.70698859, 2.54906441, 0.87863502, 0.07309288],\n",
    "            [0.32944082, -0.22898376, 0.87863502, 1.54269444, 0.34299341],\n",
    "            [0.72776588, -0.75489595, 0.07309288, 0.34299341, 3.19154447]])\n",
    "\n",
    "vector_b1 = np.transpose(np.array([[3.55652063354463, -1.86337418741501, 5.84125684808554, -1.74587299057388, 0.84299677124244]]))\n",
    "\n",
    "vector_b2 = np.transpose(np.array([[3.55653063354463, -1.86337418741501, 5.84125684808554, -1.74587299057388, 0.84299677124244]]))\n",
    "\n"
   ]
  },
  {
   "cell_type": "code",
   "execution_count": 3,
   "id": "0deea7b5",
   "metadata": {
    "scrolled": true
   },
   "outputs": [],
   "source": [
    "# Solving the equations\n",
    "vector_y1 = np.linalg.solve(matrix_A1, vector_b1)\n",
    "vector_y1_prim = np.linalg.solve(matrix_A1, vector_b2)\n",
    "vector_y2 = np.linalg.solve(matrix_A2, vector_b1)\n",
    "vector_y2_prim = np.linalg.solve(matrix_A2, vector_b2)"
   ]
  },
  {
   "cell_type": "code",
   "execution_count": 4,
   "id": "2d91a2b9",
   "metadata": {
    "scrolled": true
   },
   "outputs": [
    {
     "data": {
      "text/plain": [
       "array([[ 2.03163246],\n",
       "       [-1.03652186],\n",
       "       [ 3.22032664],\n",
       "       [-3.52251753],\n",
       "       [-0.1394951 ]])"
      ]
     },
     "execution_count": 4,
     "metadata": {},
     "output_type": "execute_result"
    }
   ],
   "source": [
    "# A1y1 = b result\n",
    "vector_y1"
   ]
  },
  {
   "cell_type": "code",
   "execution_count": 5,
   "id": "76cb08bc",
   "metadata": {},
   "outputs": [
    {
     "data": {
      "text/plain": [
       "array([[ 2.03163717],\n",
       "       [-1.0365219 ],\n",
       "       [ 3.22032706],\n",
       "       [-3.52251858],\n",
       "       [-0.13949605]])"
      ]
     },
     "execution_count": 5,
     "metadata": {},
     "output_type": "execute_result"
    }
   ],
   "source": [
    "# A1y'1 = b' result\n",
    "vector_y1_prim"
   ]
  },
  {
   "cell_type": "code",
   "execution_count": 6,
   "id": "74c59755",
   "metadata": {
    "scrolled": true
   },
   "outputs": [
    {
     "data": {
      "text/plain": [
       "array([[ 1.99998045],\n",
       "       [-0.33814056],\n",
       "       [ 3.42431038],\n",
       "       [-3.56662167],\n",
       "       [ 0.0329788 ]])"
      ]
     },
     "execution_count": 6,
     "metadata": {},
     "output_type": "execute_result"
    }
   ],
   "source": [
    "# A2y2 = b result\n",
    "vector_y2"
   ]
  },
  {
   "cell_type": "code",
   "execution_count": 7,
   "id": "123b3a64",
   "metadata": {},
   "outputs": [
    {
     "data": {
      "text/plain": [
       "array([[  3.42873475],\n",
       "       [-31.86258865],\n",
       "       [ -5.78337449],\n",
       "       [ -1.57579144],\n",
       "       [ -7.75237481]])"
      ]
     },
     "execution_count": 7,
     "metadata": {},
     "output_type": "execute_result"
    }
   ],
   "source": [
    "# A2y'2 = b' result\n",
    "vector_y2_prim"
   ]
  },
  {
   "cell_type": "code",
   "execution_count": 8,
   "id": "49c20370",
   "metadata": {},
   "outputs": [],
   "source": [
    "# Calculating Euclidean norms \n",
    "norm_1 = np.linalg.norm(vector_y1 - vector_y1_prim)\n",
    "norm_2 = np.linalg.norm(vector_y2 - vector_y2_prim)\n"
   ]
  },
  {
   "cell_type": "code",
   "execution_count": 9,
   "id": "78a35a6b",
   "metadata": {},
   "outputs": [
    {
     "data": {
      "text/plain": [
       "4.934587135529891e-06"
      ]
     },
     "execution_count": 9,
     "metadata": {},
     "output_type": "execute_result"
    }
   ],
   "source": [
    "# Delta 1 \n",
    "norm_1"
   ]
  },
  {
   "cell_type": "code",
   "execution_count": 10,
   "id": "2726ea07",
   "metadata": {},
   "outputs": [
    {
     "data": {
      "text/plain": [
       "33.84063773776324"
      ]
     },
     "execution_count": 10,
     "metadata": {},
     "output_type": "execute_result"
    }
   ],
   "source": [
    "# Delta 2 \n",
    "norm_2"
   ]
  },
  {
   "cell_type": "code",
   "execution_count": 11,
   "id": "d25c74b6",
   "metadata": {},
   "outputs": [
    {
     "data": {
      "text/plain": [
       "4.00000002506492"
      ]
     },
     "execution_count": 11,
     "metadata": {},
     "output_type": "execute_result"
    }
   ],
   "source": [
    "np.linalg.cond(matrix_A1)"
   ]
  },
  {
   "cell_type": "code",
   "execution_count": 12,
   "id": "69cde9a5",
   "metadata": {},
   "outputs": [
    {
     "data": {
      "text/plain": [
       "320612863.37996066"
      ]
     },
     "execution_count": 12,
     "metadata": {},
     "output_type": "execute_result"
    }
   ],
   "source": [
    "np.linalg.cond(matrix_A2)"
   ]
  },
  {
   "cell_type": "code",
   "execution_count": null,
   "id": "82809d05",
   "metadata": {},
   "outputs": [],
   "source": []
  }
 ],
 "metadata": {
  "kernelspec": {
   "display_name": "Python 3 (ipykernel)",
   "language": "python",
   "name": "python3"
  },
  "language_info": {
   "codemirror_mode": {
    "name": "ipython",
    "version": 3
   },
   "file_extension": ".py",
   "mimetype": "text/x-python",
   "name": "python",
   "nbconvert_exporter": "python",
   "pygments_lexer": "ipython3",
   "version": "3.9.7"
  }
 },
 "nbformat": 4,
 "nbformat_minor": 5
}

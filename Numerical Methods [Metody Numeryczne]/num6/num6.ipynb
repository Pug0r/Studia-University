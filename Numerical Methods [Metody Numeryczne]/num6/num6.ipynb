{
 "cells": [
  {
   "cell_type": "code",
   "execution_count": 91,
   "id": "0b8024d4",
   "metadata": {},
   "outputs": [],
   "source": [
    "import numpy as np \n",
    "np.set_printoptions(precision=5, suppress = True)\n",
    "\n",
    "matrix_M = np.array([[3, 6, 6, 9], \n",
    "                 [1, 4, 0, 9],\n",
    "                 [0, 0.2, 6, 12],\n",
    "                 [0, 0, 0.1, 6]])\n",
    "\n",
    "matrix_B = np.array([[3, 4, 2, 4], \n",
    "                 [4, 7, 1, -3],\n",
    "                 [2, 1, 3, 2],\n",
    "                 [4, -3, 2, 2]])"
   ]
  },
  {
   "cell_type": "code",
   "execution_count": 92,
   "id": "440393a6",
   "metadata": {},
   "outputs": [],
   "source": [
    "def iteration_qr(matrix):\n",
    "    matrix_Q, matrix_R = np.linalg.qr(matrix)\n",
    "    return np.matmul(matrix_R, matrix_Q)\n",
    "\n",
    "def qr_check_stop(matrix, stop_value=10**-15)->bool:\n",
    "    values = []\n",
    "    for i in range(1, len(matrix)):\n",
    "        values.append(abs(matrix[i][i-1]))\n",
    "    if all(i < stop_value for i in values):\n",
    "        return True\n",
    "    return False\n",
    "\n",
    "def get_diagonal_elements(matrix):\n",
    "    return [matrix[x][x] for x, _ in enumerate(matrix)]\n",
    "\n",
    "def iteration_power(matrix, vector):\n",
    "    y_hat = np.matmul(matrix, vector)\n",
    "    return y_hat / np.linalg.norm(y_hat)\n",
    "\n",
    "def power_check_stop(a_vec, b_vec, stop_diff=10**-15)->bool:\n",
    "    return np.linalg.norm(a_vec - b_vec) < stop_diff\n",
    "\n",
    "def power_get_eigenvalue(matrix, vector):\n",
    "    return np.matmul(matrix, vector)[0] / y_new[0]\n",
    "          "
   ]
  },
  {
   "cell_type": "code",
   "execution_count": 93,
   "id": "b2f57cab",
   "metadata": {},
   "outputs": [
    {
     "data": {
      "text/plain": [
       "[7.230992309419286, 5.900157268333133, 4.8158065906820475, 1.0530438315655382]"
      ]
     },
     "execution_count": 93,
     "metadata": {},
     "output_type": "execute_result"
    }
   ],
   "source": [
    "# Algorytm QR\n",
    "result =  iteration_qr(matrix_M)\n",
    "\n",
    "while not qr_check_stop(result):\n",
    "    result = iteration_qr(result)\n",
    "    \n",
    "get_diagonal_elements(result)"
   ]
  },
  {
   "cell_type": "code",
   "execution_count": 94,
   "id": "25fda27c",
   "metadata": {},
   "outputs": [
    {
     "data": {
      "text/plain": [
       "array([1.05304, 4.81581, 5.90016, 7.23099])"
      ]
     },
     "execution_count": 94,
     "metadata": {},
     "output_type": "execute_result"
    }
   ],
   "source": [
    "np.linalg.eig(matrix_M)[0]\n",
    "# Wyniki się zgadzają"
   ]
  },
  {
   "cell_type": "code",
   "execution_count": 95,
   "id": "1d3a684e",
   "metadata": {
    "scrolled": false
   },
   "outputs": [
    {
     "data": {
      "text/plain": [
       "10.015982848255211"
      ]
     },
     "execution_count": 95,
     "metadata": {},
     "output_type": "execute_result"
    }
   ],
   "source": [
    "# Metoda potęgowa\n",
    "y_new = np.array([5 for _ in enumerate(matrix_B)])\n",
    "y_hat = iteration_power(matrix_B, y_new)\n",
    "\n",
    "while not power_check_stop(y_hat, y_new):\n",
    "    y_new = y_hat\n",
    "    y_hat = iteration_power(matrix_B, y_new)\n",
    "\n",
    "y_new\n",
    "power_get_eigenvalue(matrix_B, y_new)"
   ]
  },
  {
   "cell_type": "code",
   "execution_count": 96,
   "id": "5663abcf",
   "metadata": {},
   "outputs": [
    {
     "data": {
      "text/plain": [
       "10.015982848255218"
      ]
     },
     "execution_count": 96,
     "metadata": {},
     "output_type": "execute_result"
    }
   ],
   "source": [
    "max(np.linalg.eig(matrix_B)[0])\n",
    "# Wyniki się zgadzają"
   ]
  },
  {
   "cell_type": "code",
   "execution_count": 97,
   "id": "76b102a5",
   "metadata": {},
   "outputs": [
    {
     "data": {
      "text/plain": [
       "array([0.5583 , 0.77621, 0.28679, 0.05965])"
      ]
     },
     "execution_count": 97,
     "metadata": {},
     "output_type": "execute_result"
    }
   ],
   "source": [
    "y_new"
   ]
  },
  {
   "cell_type": "code",
   "execution_count": 98,
   "id": "a1590bd0",
   "metadata": {},
   "outputs": [
    {
     "data": {
      "text/plain": [
       "array([[-0.61383,  0.40642,  0.5583 ,  0.38254],\n",
       "       [ 0.41866,  0.00966,  0.77621, -0.47131],\n",
       "       [-0.07645, -0.87323,  0.28679,  0.3865 ],\n",
       "       [ 0.66489,  0.26872,  0.05965,  0.69437]])"
      ]
     },
     "execution_count": 98,
     "metadata": {},
     "output_type": "execute_result"
    }
   ],
   "source": [
    "np.linalg.eig(matrix_B)[1]"
   ]
  },
  {
   "cell_type": "code",
   "execution_count": null,
   "id": "7c6beedb",
   "metadata": {},
   "outputs": [],
   "source": []
  }
 ],
 "metadata": {
  "kernelspec": {
   "display_name": "Python 3 (ipykernel)",
   "language": "python",
   "name": "python3"
  },
  "language_info": {
   "codemirror_mode": {
    "name": "ipython",
    "version": 3
   },
   "file_extension": ".py",
   "mimetype": "text/x-python",
   "name": "python",
   "nbconvert_exporter": "python",
   "pygments_lexer": "ipython3",
   "version": "3.9.7"
  }
 },
 "nbformat": 4,
 "nbformat_minor": 5
}
